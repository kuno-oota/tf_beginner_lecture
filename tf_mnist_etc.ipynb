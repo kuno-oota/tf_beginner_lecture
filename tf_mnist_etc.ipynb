{
 "cells": [
  {
   "cell_type": "markdown",
   "metadata": {},
   "source": [
    "# import"
   ]
  },
  {
   "cell_type": "code",
   "execution_count": 1,
   "metadata": {},
   "outputs": [
    {
     "data": {
      "text/plain": [
       "'2.0.0-alpha0'"
      ]
     },
     "execution_count": 1,
     "metadata": {},
     "output_type": "execute_result"
    }
   ],
   "source": [
    "import tensorflow as tf\n",
    "from tensorflow import keras\n",
    "\n",
    "tf.__version__"
   ]
  },
  {
   "cell_type": "markdown",
   "metadata": {},
   "source": [
    "# データの読み込み"
   ]
  },
  {
   "cell_type": "code",
   "execution_count": 2,
   "metadata": {},
   "outputs": [],
   "source": [
    "# MNIST データのロード\n",
    "(x_train, y_train), (x_test, y_test) = keras.datasets.mnist.load_data()\n",
    "#(x_train, y_train), (x_test, y_test) = keras.datasets.fashion_mnist.load_data()"
   ]
  },
  {
   "cell_type": "code",
   "execution_count": 3,
   "metadata": {},
   "outputs": [],
   "source": [
    "# 0 - 255の画素データを 0.0 - 1.0に変換\n",
    "x_train = x_train / 255.0\n",
    "x_test = x_test / 255.0\n",
    "\n",
    "# 2次元画素データを1次元に変換\n",
    "x_train = x_train.reshape(-1, 784) \n",
    "x_test = x_test.reshape(-1, 784)\n",
    "\n",
    "# one-hotベクトル化\n",
    "y_train = keras.utils.to_categorical(y_train, 10) \n",
    "y_test = keras.utils.to_categorical(y_test, 10)"
   ]
  },
  {
   "cell_type": "markdown",
   "metadata": {},
   "source": [
    "# モデルの構築"
   ]
  },
  {
   "cell_type": "code",
   "execution_count": 4,
   "metadata": {},
   "outputs": [],
   "source": [
    "from tensorflow.keras.models import Sequential\n",
    "from tensorflow.keras.layers import Dense\n",
    "\n",
    "model = Sequential([\n",
    "    Dense(64, activation=tf.nn.relu, input_shape=(784,)),\n",
    "    Dense(10, activation=tf.nn.softmax)\n",
    "])"
   ]
  },
  {
   "cell_type": "markdown",
   "metadata": {},
   "source": [
    "# コンパイル"
   ]
  },
  {
   "cell_type": "code",
   "execution_count": 5,
   "metadata": {},
   "outputs": [],
   "source": [
    "model.compile(optimizer=keras.optimizers.SGD(lr=0.5),\n",
    "              loss='mean_squared_error',\n",
    "              metrics=['accuracy'])"
   ]
  },
  {
   "cell_type": "markdown",
   "metadata": {},
   "source": [
    "# モデルの可視化"
   ]
  },
  {
   "cell_type": "code",
   "execution_count": 6,
   "metadata": {},
   "outputs": [
    {
     "name": "stdout",
     "output_type": "stream",
     "text": [
      "Model: \"sequential\"\n",
      "_________________________________________________________________\n",
      "Layer (type)                 Output Shape              Param #   \n",
      "=================================================================\n",
      "dense (Dense)                (None, 64)                50240     \n",
      "_________________________________________________________________\n",
      "dense_1 (Dense)              (None, 10)                650       \n",
      "=================================================================\n",
      "Total params: 50,890\n",
      "Trainable params: 50,890\n",
      "Non-trainable params: 0\n",
      "_________________________________________________________________\n"
     ]
    }
   ],
   "source": [
    "model.summary()"
   ]
  },
  {
   "cell_type": "code",
   "execution_count": 7,
   "metadata": {},
   "outputs": [
    {
     "data": {
      "image/png": "[encoded data removed]",
      "text/plain": [
       "<IPython.core.display.Image object>"
      ]
     },
     "execution_count": 7,
     "metadata": {},
     "output_type": "execute_result"
    }
   ],
   "source": [
    "keras.utils.plot_model(model)"
   ]
  },
  {
   "cell_type": "markdown",
   "metadata": {},
   "source": [
    "# モデルの保存"
   ]
  },
  {
   "cell_type": "code",
   "execution_count": 8,
   "metadata": {},
   "outputs": [],
   "source": [
    "model_json_str = model.to_json()\n",
    "open('model.json', 'w').write(model_json_str)\n",
    "model.save_weights('weights.h5');"
   ]
  },
  {
   "cell_type": "markdown",
   "metadata": {},
   "source": [
    "# Callbackの定義"
   ]
  },
  {
   "cell_type": "code",
   "execution_count": 9,
   "metadata": {},
   "outputs": [],
   "source": [
    "tb_cb = keras.callbacks.TensorBoard(log_dir=\"logs/\", histogram_freq=1, write_graph=True, write_images=True)"
   ]
  },
  {
   "cell_type": "code",
   "execution_count": 10,
   "metadata": {},
   "outputs": [],
   "source": [
    "if tf.__version__[0]=='1':\n",
    "    sv_cb = keras.callbacks.ModelCheckpoint(\n",
    "        filepath = 'save/ckpt/model',\n",
    "        monitor='val_loss',\n",
    "        verbose=0,\n",
    "        save_best_only=False,\n",
    "        save_weights_only=True,\n",
    "        mode='auto',\n",
    "        save_freq=1\n",
    "    )\n",
    "else:\n",
    "    sv_cb = keras.callbacks.ModelCheckpoint(\n",
    "        filepath = 'save/ckpt/model',\n",
    "        monitor='val_loss',\n",
    "        verbose=0,\n",
    "        save_best_only=False,\n",
    "        save_weights_only=True,\n",
    "        mode='auto',\n",
    "        period=1   # tf2ではsave_freqではなくperiod\n",
    "    )"
   ]
  },
  {
   "cell_type": "markdown",
   "metadata": {},
   "source": [
    "# 訓練"
   ]
  },
  {
   "cell_type": "code",
   "execution_count": 11,
   "metadata": {},
   "outputs": [],
   "source": [
    "EPOCHS = 15"
   ]
  },
  {
   "cell_type": "code",
   "execution_count": 12,
   "metadata": {},
   "outputs": [
    {
     "name": "stdout",
     "output_type": "stream",
     "text": [
      "Train on 48000 samples, validate on 12000 samples\n",
      "Epoch 1/15\n",
      "48000/48000 [==============================] - 3s 53us/sample - loss: 0.0260 - accuracy: 0.8368 - val_loss: 0.0135 - val_accuracy: 0.9131\n",
      "Epoch 2/15\n",
      "48000/48000 [==============================] - 2s 44us/sample - loss: 0.0128 - accuracy: 0.9199 - val_loss: 0.0110 - val_accuracy: 0.9298\n",
      "Epoch 3/15\n",
      "48000/48000 [==============================] - 2s 43us/sample - loss: 0.0107 - accuracy: 0.9330 - val_loss: 0.0096 - val_accuracy: 0.9385\n",
      "Epoch 4/15\n",
      "48000/48000 [==============================] - 2s 47us/sample - loss: 0.0094 - accuracy: 0.9414 - val_loss: 0.0088 - val_accuracy: 0.9453\n",
      "Epoch 5/15\n",
      "48000/48000 [==============================] - 2s 52us/sample - loss: 0.0084 - accuracy: 0.9483 - val_loss: 0.0081 - val_accuracy: 0.9499\n",
      "Epoch 6/15\n",
      "48000/48000 [==============================] - 3s 55us/sample - loss: 0.0076 - accuracy: 0.9528 - val_loss: 0.0077 - val_accuracy: 0.9528\n",
      "Epoch 7/15\n",
      "48000/48000 [==============================] - 2s 43us/sample - loss: 0.0070 - accuracy: 0.9558 - val_loss: 0.0071 - val_accuracy: 0.9563\n",
      "Epoch 8/15\n",
      "48000/48000 [==============================] - 2s 43us/sample - loss: 0.0065 - accuracy: 0.9608 - val_loss: 0.0068 - val_accuracy: 0.9572\n",
      "Epoch 9/15\n",
      "48000/48000 [==============================] - 2s 43us/sample - loss: 0.0060 - accuracy: 0.9639 - val_loss: 0.0065 - val_accuracy: 0.9596\n",
      "Epoch 10/15\n",
      "48000/48000 [==============================] - 2s 43us/sample - loss: 0.0057 - accuracy: 0.9658 - val_loss: 0.0064 - val_accuracy: 0.9598\n",
      "Epoch 11/15\n",
      "48000/48000 [==============================] - 2s 44us/sample - loss: 0.0053 - accuracy: 0.9688 - val_loss: 0.0061 - val_accuracy: 0.9616\n",
      "Epoch 12/15\n",
      "48000/48000 [==============================] - 2s 51us/sample - loss: 0.0050 - accuracy: 0.9708 - val_loss: 0.0059 - val_accuracy: 0.9628\n",
      "Epoch 13/15\n",
      "48000/48000 [==============================] - 2s 49us/sample - loss: 0.0047 - accuracy: 0.9730 - val_loss: 0.0058 - val_accuracy: 0.9627\n",
      "Epoch 14/15\n",
      "48000/48000 [==============================] - 2s 44us/sample - loss: 0.0045 - accuracy: 0.9741 - val_loss: 0.0057 - val_accuracy: 0.9628\n",
      "Epoch 15/15\n",
      "48000/48000 [==============================] - 2s 49us/sample - loss: 0.0043 - accuracy: 0.9751 - val_loss: 0.0055 - val_accuracy: 0.9647\n"
     ]
    },
    {
     "data": {
      "text/plain": [
       "<tensorflow.python.keras.callbacks.History at 0x142af7c18>"
      ]
     },
     "execution_count": 12,
     "metadata": {},
     "output_type": "execute_result"
    }
   ],
   "source": [
    "model.fit(x_train, y_train, epochs=EPOCHS, validation_split=0.2, callbacks=[tb_cb, sv_cb])"
   ]
  },
  {
   "cell_type": "markdown",
   "metadata": {},
   "source": [
    "# 評価"
   ]
  },
  {
   "cell_type": "code",
   "execution_count": 13,
   "metadata": {},
   "outputs": [
    {
     "name": "stdout",
     "output_type": "stream",
     "text": [
      "10000/10000 [==============================] - 0s 22us/sample - loss: 0.0053 - accuracy: 0.9661\n"
     ]
    }
   ],
   "source": [
    "test_loss, test_acc = model.evaluate(x_test, y_test)"
   ]
  },
  {
   "cell_type": "code",
   "execution_count": 14,
   "metadata": {},
   "outputs": [
    {
     "name": "stdout",
     "output_type": "stream",
     "text": [
      "0.005283238546738358\n",
      "0.9661\n"
     ]
    }
   ],
   "source": [
    "print(test_loss)\n",
    "print(test_acc)"
   ]
  },
  {
   "cell_type": "code",
   "execution_count": 15,
   "metadata": {},
   "outputs": [
    {
     "data": {
      "text/plain": [
       "array([[1.13894544e-04, 1.09406081e-07, 1.35339762e-03, 2.10267142e-03,\n",
       "        1.03226364e-06, 1.04147321e-05, 1.72349139e-08, 9.94274199e-01,\n",
       "        6.70264766e-04, 1.47404626e-03],\n",
       "       [1.26996383e-04, 1.32762170e-05, 9.95943367e-01, 2.18479265e-03,\n",
       "        2.39965853e-10, 2.97697465e-04, 1.33956654e-03, 6.37791153e-10,\n",
       "        9.42959887e-05, 3.65328934e-10],\n",
       "       [9.47649532e-05, 9.60107625e-01, 8.84061120e-03, 2.28596758e-03,\n",
       "        1.49286585e-03, 1.87130400e-03, 1.08775971e-02, 7.32640596e-03,\n",
       "        6.79036323e-03, 3.12477350e-04],\n",
       "       [9.99326587e-01, 5.97891940e-08, 1.76789054e-05, 2.05286187e-06,\n",
       "        1.14475306e-07, 1.66285477e-04, 4.40816482e-04, 3.97517106e-05,\n",
       "        9.99483746e-07, 5.63913181e-06],\n",
       "       [4.85207092e-05, 2.13127696e-05, 1.22545738e-04, 4.47056163e-06,\n",
       "        9.74602222e-01, 3.89560410e-05, 2.05958582e-04, 1.04386231e-03,\n",
       "        1.21126461e-04, 2.37908568e-02],\n",
       "       [7.29878275e-06, 9.91260469e-01, 8.01069255e-04, 5.69401542e-04,\n",
       "        3.67148692e-04, 6.75949850e-05, 3.14763631e-04, 5.24443481e-03,\n",
       "        1.31540955e-03, 5.23352755e-05],\n",
       "       [5.77922890e-07, 8.21076071e-07, 1.27295732e-06, 4.44728175e-05,\n",
       "        9.86714184e-01, 1.02261989e-03, 4.42221699e-06, 6.51914510e-04,\n",
       "        9.16746072e-03, 2.39234883e-03],\n",
       "       [9.18805745e-06, 7.82755844e-04, 6.43283268e-03, 1.49171392e-03,\n",
       "        1.89023428e-02, 4.06083185e-03, 8.85659028e-05, 8.15643289e-04,\n",
       "        1.54836662e-03, 9.65867758e-01],\n",
       "       [2.88746506e-03, 2.47686148e-06, 3.16670239e-02, 3.15001271e-05,\n",
       "        6.50830613e-03, 5.14679074e-01, 4.42924768e-01, 2.53930949e-07,\n",
       "        1.25464995e-03, 4.44692632e-05],\n",
       "       [1.89032812e-06, 1.40883767e-08, 1.84014516e-06, 2.54686279e-06,\n",
       "        1.59579311e-02, 1.03749162e-05, 5.16772673e-07, 8.03646259e-03,\n",
       "        1.32763095e-03, 9.74660754e-01]], dtype=float32)"
      ]
     },
     "execution_count": 15,
     "metadata": {},
     "output_type": "execute_result"
    }
   ],
   "source": [
    "model.predict(x_test[:10])"
   ]
  },
  {
   "cell_type": "markdown",
   "metadata": {},
   "source": [
    "# savedmodel"
   ]
  },
  {
   "cell_type": "code",
   "execution_count": 16,
   "metadata": {},
   "outputs": [],
   "source": [
    "import os\n",
    "\n",
    "if tf.__version__[0]=='1':\n",
    "\n",
    "    sess = keras.backend.get_session()\n",
    "    tf.saved_model.simple_save(\n",
    "        sess,\n",
    "        os.path.join(\"save\", \"savedmodel/1\"),\n",
    "                     inputs={'inputs': model.input}, \n",
    "                     outputs={t.name: t for t in model.outputs}\n",
    "\n",
    "    )"
   ]
  },
  {
   "cell_type": "code",
   "execution_count": 17,
   "metadata": {},
   "outputs": [
    {
     "name": "stderr",
     "output_type": "stream",
     "text": [
      "WARNING: Logging before flag parsing goes to stderr.\n",
      "W0520 12:55:57.483618 4505105856 deprecation.py:323] From /Users/ootayukinori/work/python/env/tf20a/lib/python3.7/site-packages/tensorflow/python/saved_model/signature_def_utils_impl.py:253: build_tensor_info (from tensorflow.python.saved_model.utils_impl) is deprecated and will be removed in a future version.\n",
      "Instructions for updating:\n",
      "This function will only be available through the v1 compatibility library as tf.compat.v1.saved_model.utils.build_tensor_info or tf.compat.v1.saved_model.build_tensor_info.\n",
      "W0520 12:55:57.484866 4505105856 tf_logging.py:161] Export includes no default signature!\n",
      "W0520 12:55:57.897509 4505105856 tf_logging.py:161] Export includes no default signature!\n"
     ]
    }
   ],
   "source": [
    "keras.experimental.export_saved_model(model, \"./save/experimental\")"
   ]
  },
  {
   "cell_type": "markdown",
   "metadata": {},
   "source": [
    "# hdf5"
   ]
  },
  {
   "cell_type": "code",
   "execution_count": 18,
   "metadata": {},
   "outputs": [],
   "source": [
    "model.save(\"save/model.h5\")"
   ]
  },
  {
   "cell_type": "code",
   "execution_count": null,
   "metadata": {},
   "outputs": [],
   "source": []
  }
 ],
 "metadata": {
  "kernelspec": {
   "display_name": "Python 3",
   "language": "python",
   "name": "python3"
  },
  "language_info": {
   "codemirror_mode": {
    "name": "ipython",
    "version": 3
   },
   "file_extension": ".py",
   "mimetype": "text/x-python",
   "name": "python",
   "nbconvert_exporter": "python",
   "pygments_lexer": "ipython3",
   "version": "3.7.3"
  }
 },
 "nbformat": 4,
 "nbformat_minor": 2
}
